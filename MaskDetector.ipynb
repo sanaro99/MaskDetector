{
 "cells": [
  {
   "cell_type": "code",
   "execution_count": 1,
   "metadata": {},
   "outputs": [],
   "source": [
    "# Import required libraries\n",
    "import numpy as np\n",
    "import cv2\n",
    "import sys"
   ]
  },
  {
   "cell_type": "code",
   "execution_count": 2,
   "metadata": {},
   "outputs": [],
   "source": [
    "# Load the classifiers\n",
    "eye_cascade = cv2.CascadeClassifier('haarcascade_eye.xml')\n",
    "eyes_with_eyeglasses_cascade = cv2.CascadeClassifier('haarcascade_eyeglasses.xml')\n",
    "nose_cascade = cv2.CascadeClassifier('haarcascade_nose.xml')\n",
    "mouth_cascade = cv2.CascadeClassifier('haarcascade_mouth.xml')"
   ]
  },
  {
   "cell_type": "code",
   "execution_count": 3,
   "metadata": {},
   "outputs": [],
   "source": [
    "# Start video capture\n",
    "video_capture = cv2.VideoCapture(0)\n",
    "video_capture.isOpened()\n",
    "\n",
    "# Specify text label parameters\n",
    "font = cv2.FONT_HERSHEY_SIMPLEX\n",
    "textPosition = (100,50)\n",
    "fontScale = 1\n",
    "fontColor = (255,255,255)\n",
    "lineType = 2\n",
    "\n",
    "while True:\n",
    "    \n",
    "    # Specify label text\n",
    "    mask_text = \"Good!\"\n",
    "    \n",
    "    # Capture video frame by frame\n",
    "    ret, frame = video_capture.read()\n",
    "    \n",
    "    # Convert frame to grayscale for better working of the classifiers\n",
    "    gray = cv2.cvtColor(frame, cv2.COLOR_BGR2GRAY)\n",
    "    \n",
    "    # Apply eye classifier\n",
    "    eyes = eye_cascade.detectMultiScale(gray, scaleFactor=1.3, minNeighbors=5)\n",
    "    # For each eye found, draw a rectangle around it of BGR color (255,0,0) and thickness 2 px\n",
    "    for (ex,ey,ew,eh) in eyes:\n",
    "        cv2.rectangle(frame, (ex,ey), (ex+ew,ey+eh), (255,0,0), 2)\n",
    "    \n",
    "    eyes_with_eyeglasses = eyes_with_eyeglasses_cascade.detectMultiScale(gray, scaleFactor=1.4, minNeighbors=6)\n",
    "    for (ex,ey,ew,eh) in eyes_with_eyeglasses:\n",
    "        cv2.rectangle(frame,(ex,ey),(ex+ew,ey+eh),(255,0,0),2)\n",
    "        \n",
    "    # If no eyes detected, no face detected\n",
    "    if(len(eyes)==0 and len(eyes_with_eyeglasses)==0):\n",
    "        mask_text = \"No face detected\"\n",
    "        \n",
    "    # Apply nose classifier\n",
    "    nose = nose_cascade.detectMultiScale(gray, scaleFactor=1.3, minNeighbors=8)\n",
    "    # If nose detected => mask not worn properly \n",
    "    for (ex,ey,ew,eh) in nose:\n",
    "        mask_text = \"Wear mask properly!\"\n",
    "        cv2.rectangle(frame,(ex,ey),(ex+ew,ey+eh),(0,255,0),2)\n",
    "\n",
    "    # Apply mouth classifier\n",
    "    mouth = mouth_cascade.detectMultiScale(gray, scaleFactor=1.3, minNeighbors=7)\n",
    "    # If mouth detected => mask not worn\n",
    "    for (ex,ey,ew,eh) in mouth:\n",
    "        mask_text = \"Mask not detected!\"\n",
    "        cv2.rectangle(frame,(ex,ey),(ex+ew,ey+eh),(80,80,80),2)\n",
    "\n",
    "    # Put label on the frame\n",
    "    cv2.putText(frame, mask_text, textPosition, font, fontScale, fontColor, lineType)\n",
    "    \n",
    "    # Display the resulting frame\n",
    "    cv2.imshow('Video', frame)\n",
    "\n",
    "    # Press 'q' to exit the video capture\n",
    "    if cv2.waitKey(1) & 0xFF == ord('q'):\n",
    "        break\n",
    "\n",
    "# When everything is done, release the capture\n",
    "video_capture.release()\n",
    "cv2.destroyAllWindows()"
   ]
  }
 ],
 "metadata": {
  "kernelspec": {
   "display_name": "Python 3",
   "language": "python",
   "name": "python3"
  },
  "language_info": {
   "codemirror_mode": {
    "name": "ipython",
    "version": 3
   },
   "file_extension": ".py",
   "mimetype": "text/x-python",
   "name": "python",
   "nbconvert_exporter": "python",
   "pygments_lexer": "ipython3",
   "version": "3.8.5"
  }
 },
 "nbformat": 4,
 "nbformat_minor": 4
}
